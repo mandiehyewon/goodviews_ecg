{
 "cells": [
  {
   "cell_type": "code",
   "execution_count": 22,
   "id": "92927427",
   "metadata": {},
   "outputs": [],
   "source": [
    "import os\n",
    "import h5py\n",
    "import hdf5plugin\n",
    "import numpy as np\n",
    "from typing import List\n",
    "\n",
    "ALL_LEADS = ['I', 'II', 'III', 'aVR', 'aVL', 'aVF', 'V1', 'V2', 'V3', 'V4', 'V5', 'V6']\n",
    "dir_hd5 ='/storage/shared/ecg/mgh/1000004'\n",
    "\n",
    "def list_ecg_dates(hd5: h5py.File):\n",
    "    return list(hd5[\"ecg\"])\n",
    "\n",
    "\n",
    "def load_ecg(\n",
    "    hd5: h5py.File, date: str,\n",
    "    target_length: int = 2500,\n",
    "    leads: List[str] = ALL_LEADS,\n",
    "):\n",
    "    out = np.empty((target_length, len(leads)))\n",
    "    for i, lead in enumerate(leads):\n",
    "        lead_array = hd5[\"ecg\"][date][lead][()]\n",
    "        out[:, i] = np.interp(\n",
    "            np.linspace(0, 1, target_length),\n",
    "            np.linspace(0, 1, lead_array.shape[0]),\n",
    "            lead_array\n",
    "        )\n",
    "    return out\n",
    "\n",
    "\n",
    "def example_ecg():\n",
    "    with h5py.File(\"/storage/shared/ecg/mgh/1000004.hd5\", \"r\") as hd5:\n",
    "        hd5.keys()\n",
    "        dates = list_ecg_dates(hd5)\n",
    "        ecg = load_ecg(hd5, dates[0])\n",
    "    print(ecg.shape)\n",
    "    print(ecg.mean(), ecg.std())"
   ]
  },
  {
   "cell_type": "code",
   "execution_count": 25,
   "id": "80877bb3",
   "metadata": {},
   "outputs": [
    {
     "name": "stdout",
     "output_type": "stream",
     "text": [
      "<KeysViewHDF5 ['deidentified', 'ecg']>\n",
      "<KeysViewHDF5 ['I', 'II', 'III', 'V1', 'V2', 'V3', 'V4', 'V5', 'V6', 'aVF', 'aVL', 'aVR', 'acquisitiondevice', 'analysissoftwareversion', 'atrialrate_md', 'cartnumber', 'datatype', 'dateofbirth', 'diagnosis_md', 'diagnosis_pc', 'ecgsamplebase_md', 'ecgsamplebase_pc', 'ecgsampleexponent_md', 'ecgsampleexponent_pc', 'editdate', 'editliststatus', 'edittime', 'gender', 'hisstatus', 'location', 'locationname', 'patientage', 'paxis_md', 'poffset_md', 'ponset_md', 'printerval_md', 'priority', 'qoffset_md', 'qonset_md', 'qrscount_md', 'qrsduration_md', 'qtcorrected_md', 'qtinterval_md', 'raxis_md', 'read_md_clean', 'read_pc_clean', 'referringmdlastname', 'roomid', 'site', 'sitename', 'status', 'taxis_md', 'testreason', 'toffset_md', 'ventricularrate_md', 'voltagelength', 'voltageunits', 'waveform_acfilter', 'waveform_highpassfilter', 'waveform_lowpassfilter', 'waveform_samplebase', 'waveform_sampleexponent']>\n"
     ]
    }
   ],
   "source": [
    "with h5py.File(\"/storage/shared/ecg/mgh/1000004.hd5\", \"r\") as hd5:\n",
    "    print(hd5.keys())\n",
    "    print(hd5['ecg']['2007-02-24T07:06:00'].keys())\n",
    "#     print(hd5['ecg']['2007-02-24T07:06:00']['waveform_samplebase'][])\n",
    "    dates = list_ecg_dates(hd5)\n"
   ]
  },
  {
   "cell_type": "code",
   "execution_count": 23,
   "id": "cece9249",
   "metadata": {},
   "outputs": [
    {
     "name": "stdout",
     "output_type": "stream",
     "text": [
      "(2500, 12)\n",
      "24.660833333333333 282.2284814341722\n"
     ]
    }
   ],
   "source": [
    "example_ecg()"
   ]
  },
  {
   "cell_type": "code",
   "execution_count": null,
   "id": "5c0c32e4",
   "metadata": {},
   "outputs": [],
   "source": [
    "qt interval \n",
    "pqrsduration_md\n",
    "voltage "
   ]
  }
 ],
 "metadata": {
  "kernelspec": {
   "display_name": "Python 3 (ipykernel)",
   "language": "python",
   "name": "python3"
  },
  "language_info": {
   "codemirror_mode": {
    "name": "ipython",
    "version": 3
   },
   "file_extension": ".py",
   "mimetype": "text/x-python",
   "name": "python",
   "nbconvert_exporter": "python",
   "pygments_lexer": "ipython3",
   "version": "3.7.9"
  }
 },
 "nbformat": 4,
 "nbformat_minor": 5
}
