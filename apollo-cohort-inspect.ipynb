{
 "cells": [
  {
   "cell_type": "code",
   "execution_count": 1,
   "metadata": {},
   "outputs": [],
   "source": [
    "import numpy as np\n",
    "import pandas as pd\n",
    "import os"
   ]
  },
  {
   "cell_type": "code",
   "execution_count": 2,
   "metadata": {},
   "outputs": [],
   "source": [
    "fpath = '/storage/shared/apollo/same-day/1000398_2018-02-15.csv'\n",
    "df = pd.read_csv(fpath)"
   ]
  },
  {
   "cell_type": "code",
   "execution_count": 5,
   "metadata": {},
   "outputs": [
    {
     "data": {
      "text/html": [
       "<div>\n",
       "<style scoped>\n",
       "    .dataframe tbody tr th:only-of-type {\n",
       "        vertical-align: middle;\n",
       "    }\n",
       "\n",
       "    .dataframe tbody tr th {\n",
       "        vertical-align: top;\n",
       "    }\n",
       "\n",
       "    .dataframe thead th {\n",
       "        text-align: right;\n",
       "    }\n",
       "</style>\n",
       "<table border=\"1\" class=\"dataframe\">\n",
       "  <thead>\n",
       "    <tr style=\"text-align: right;\">\n",
       "      <th></th>\n",
       "      <th>Unnamed: 0</th>\n",
       "      <th>I</th>\n",
       "      <th>II</th>\n",
       "      <th>III</th>\n",
       "      <th>aVR</th>\n",
       "      <th>aVL</th>\n",
       "      <th>aVF</th>\n",
       "      <th>V1</th>\n",
       "      <th>V2</th>\n",
       "      <th>V3</th>\n",
       "      <th>V4</th>\n",
       "      <th>V5</th>\n",
       "      <th>V6</th>\n",
       "    </tr>\n",
       "  </thead>\n",
       "  <tbody>\n",
       "    <tr>\n",
       "      <th>0</th>\n",
       "      <td>0</td>\n",
       "      <td>92.0</td>\n",
       "      <td>122.0</td>\n",
       "      <td>29.0</td>\n",
       "      <td>-107.0</td>\n",
       "      <td>31.0</td>\n",
       "      <td>75.0</td>\n",
       "      <td>-43.0</td>\n",
       "      <td>4.0</td>\n",
       "      <td>39.0</td>\n",
       "      <td>58.0</td>\n",
       "      <td>58.0</td>\n",
       "      <td>63.0</td>\n",
       "    </tr>\n",
       "    <tr>\n",
       "      <th>1</th>\n",
       "      <td>1</td>\n",
       "      <td>97.0</td>\n",
       "      <td>112.0</td>\n",
       "      <td>14.0</td>\n",
       "      <td>-104.0</td>\n",
       "      <td>41.0</td>\n",
       "      <td>63.0</td>\n",
       "      <td>-39.0</td>\n",
       "      <td>14.0</td>\n",
       "      <td>34.0</td>\n",
       "      <td>63.0</td>\n",
       "      <td>53.0</td>\n",
       "      <td>63.0</td>\n",
       "    </tr>\n",
       "    <tr>\n",
       "      <th>2</th>\n",
       "      <td>2</td>\n",
       "      <td>97.0</td>\n",
       "      <td>92.0</td>\n",
       "      <td>-4.0</td>\n",
       "      <td>-95.0</td>\n",
       "      <td>51.0</td>\n",
       "      <td>43.0</td>\n",
       "      <td>-29.0</td>\n",
       "      <td>24.0</td>\n",
       "      <td>34.0</td>\n",
       "      <td>58.0</td>\n",
       "      <td>53.0</td>\n",
       "      <td>53.0</td>\n",
       "    </tr>\n",
       "    <tr>\n",
       "      <th>3</th>\n",
       "      <td>3</td>\n",
       "      <td>97.0</td>\n",
       "      <td>82.0</td>\n",
       "      <td>-14.0</td>\n",
       "      <td>-90.0</td>\n",
       "      <td>56.0</td>\n",
       "      <td>34.0</td>\n",
       "      <td>-19.0</td>\n",
       "      <td>29.0</td>\n",
       "      <td>34.0</td>\n",
       "      <td>58.0</td>\n",
       "      <td>53.0</td>\n",
       "      <td>53.0</td>\n",
       "    </tr>\n",
       "    <tr>\n",
       "      <th>4</th>\n",
       "      <td>4</td>\n",
       "      <td>97.0</td>\n",
       "      <td>82.0</td>\n",
       "      <td>-14.0</td>\n",
       "      <td>-90.0</td>\n",
       "      <td>56.0</td>\n",
       "      <td>34.0</td>\n",
       "      <td>-14.0</td>\n",
       "      <td>34.0</td>\n",
       "      <td>29.0</td>\n",
       "      <td>53.0</td>\n",
       "      <td>48.0</td>\n",
       "      <td>43.0</td>\n",
       "    </tr>\n",
       "  </tbody>\n",
       "</table>\n",
       "</div>"
      ],
      "text/plain": [
       "   Unnamed: 0     I     II   III    aVR   aVL   aVF    V1    V2    V3    V4  \\\n",
       "0           0  92.0  122.0  29.0 -107.0  31.0  75.0 -43.0   4.0  39.0  58.0   \n",
       "1           1  97.0  112.0  14.0 -104.0  41.0  63.0 -39.0  14.0  34.0  63.0   \n",
       "2           2  97.0   92.0  -4.0  -95.0  51.0  43.0 -29.0  24.0  34.0  58.0   \n",
       "3           3  97.0   82.0 -14.0  -90.0  56.0  34.0 -19.0  29.0  34.0  58.0   \n",
       "4           4  97.0   82.0 -14.0  -90.0  56.0  34.0 -14.0  34.0  29.0  53.0   \n",
       "\n",
       "     V5    V6  \n",
       "0  58.0  63.0  \n",
       "1  53.0  63.0  \n",
       "2  53.0  53.0  \n",
       "3  53.0  53.0  \n",
       "4  48.0  43.0  "
      ]
     },
     "execution_count": 5,
     "metadata": {},
     "output_type": "execute_result"
    }
   ],
   "source": [
    "df.head()"
   ]
  },
  {
   "cell_type": "code",
   "execution_count": 4,
   "metadata": {},
   "outputs": [
    {
     "data": {
      "text/plain": [
       "(2500, 12)"
      ]
     },
     "execution_count": 4,
     "metadata": {},
     "output_type": "execute_result"
    }
   ],
   "source": [
    "df.values[::2,1:].shape"
   ]
  },
  {
   "cell_type": "code",
   "execution_count": 4,
   "metadata": {},
   "outputs": [],
   "source": [
    "tab = '/storage/shared/apollo/same-day/tabular_data.csv'\n",
    "df_tab = pd.read_csv(tab)"
   ]
  },
  {
   "cell_type": "code",
   "execution_count": 5,
   "metadata": {},
   "outputs": [
    {
     "data": {
      "text/plain": [
       "(9226, 5072)"
      ]
     },
     "execution_count": 5,
     "metadata": {},
     "output_type": "execute_result"
    }
   ],
   "source": [
    "len(df_tab), len(df_tab['QuantaID'].unique())"
   ]
  },
  {
   "cell_type": "code",
   "execution_count": 6,
   "metadata": {},
   "outputs": [
    {
     "data": {
      "text/plain": [
       "5072"
      ]
     },
     "execution_count": 6,
     "metadata": {},
     "output_type": "execute_result"
    }
   ],
   "source": [
    "len(set(df_tab['QuantaID']))"
   ]
  },
  {
   "cell_type": "code",
   "execution_count": 7,
   "metadata": {
    "scrolled": true
   },
   "outputs": [
    {
     "data": {
      "text/html": [
       "<div>\n",
       "<style scoped>\n",
       "    .dataframe tbody tr th:only-of-type {\n",
       "        vertical-align: middle;\n",
       "    }\n",
       "\n",
       "    .dataframe tbody tr th {\n",
       "        vertical-align: top;\n",
       "    }\n",
       "\n",
       "    .dataframe thead th {\n",
       "        text-align: right;\n",
       "    }\n",
       "</style>\n",
       "<table border=\"1\" class=\"dataframe\">\n",
       "  <thead>\n",
       "    <tr style=\"text-align: right;\">\n",
       "      <th></th>\n",
       "      <th>Unnamed: 0</th>\n",
       "      <th>QuantaID</th>\n",
       "      <th>Date_of_Cath</th>\n",
       "      <th>Age_at_Cath</th>\n",
       "      <th>Sex</th>\n",
       "      <th>PAP_sys</th>\n",
       "      <th>PAP_dia</th>\n",
       "      <th>PAP_mean</th>\n",
       "      <th>PCWP_sys</th>\n",
       "      <th>PCWP_dia</th>\n",
       "      <th>PCWP_mean</th>\n",
       "      <th>CO</th>\n",
       "      <th>PVR</th>\n",
       "      <th>Admit_Diag</th>\n",
       "    </tr>\n",
       "  </thead>\n",
       "  <tbody>\n",
       "    <tr>\n",
       "      <th>0</th>\n",
       "      <td>1</td>\n",
       "      <td>1398820</td>\n",
       "      <td>2016-08-19</td>\n",
       "      <td>80</td>\n",
       "      <td>True</td>\n",
       "      <td>53.0</td>\n",
       "      <td>31.0</td>\n",
       "      <td>38.0</td>\n",
       "      <td>29.0</td>\n",
       "      <td>33.0</td>\n",
       "      <td>26.0</td>\n",
       "      <td>4.10</td>\n",
       "      <td>2.926829</td>\n",
       "      <td>['Acute ischemic heart disease, unspecified', ...</td>\n",
       "    </tr>\n",
       "    <tr>\n",
       "      <th>1</th>\n",
       "      <td>4</td>\n",
       "      <td>1654372</td>\n",
       "      <td>2010-06-04</td>\n",
       "      <td>87</td>\n",
       "      <td>False</td>\n",
       "      <td>49.0</td>\n",
       "      <td>25.0</td>\n",
       "      <td>34.0</td>\n",
       "      <td>26.0</td>\n",
       "      <td>25.0</td>\n",
       "      <td>23.0</td>\n",
       "      <td>2.77</td>\n",
       "      <td>3.971119</td>\n",
       "      <td>['Acute systolic heart failure']</td>\n",
       "    </tr>\n",
       "    <tr>\n",
       "      <th>2</th>\n",
       "      <td>8</td>\n",
       "      <td>303155</td>\n",
       "      <td>2010-03-18</td>\n",
       "      <td>86</td>\n",
       "      <td>True</td>\n",
       "      <td>26.0</td>\n",
       "      <td>9.0</td>\n",
       "      <td>14.0</td>\n",
       "      <td>NaN</td>\n",
       "      <td>15.0</td>\n",
       "      <td>9.0</td>\n",
       "      <td>4.17</td>\n",
       "      <td>1.199041</td>\n",
       "      <td>['SEMI initial episode of care', 'CAD of vein ...</td>\n",
       "    </tr>\n",
       "    <tr>\n",
       "      <th>3</th>\n",
       "      <td>9</td>\n",
       "      <td>303155</td>\n",
       "      <td>2010-03-25</td>\n",
       "      <td>86</td>\n",
       "      <td>True</td>\n",
       "      <td>29.0</td>\n",
       "      <td>8.0</td>\n",
       "      <td>17.0</td>\n",
       "      <td>NaN</td>\n",
       "      <td>15.0</td>\n",
       "      <td>13.0</td>\n",
       "      <td>3.61</td>\n",
       "      <td>1.108033</td>\n",
       "      <td>['Atherosclerosis of Renal Artery', 'Aortic st...</td>\n",
       "    </tr>\n",
       "    <tr>\n",
       "      <th>4</th>\n",
       "      <td>10</td>\n",
       "      <td>1092577</td>\n",
       "      <td>2011-07-12</td>\n",
       "      <td>77</td>\n",
       "      <td>False</td>\n",
       "      <td>49.0</td>\n",
       "      <td>20.0</td>\n",
       "      <td>28.0</td>\n",
       "      <td>NaN</td>\n",
       "      <td>34.0</td>\n",
       "      <td>19.0</td>\n",
       "      <td>7.73</td>\n",
       "      <td>1.164295</td>\n",
       "      <td>['CHF: Unspecified', 'Essential Hypertension, ...</td>\n",
       "    </tr>\n",
       "    <tr>\n",
       "      <th>5</th>\n",
       "      <td>13</td>\n",
       "      <td>70309</td>\n",
       "      <td>2013-02-13</td>\n",
       "      <td>80</td>\n",
       "      <td>False</td>\n",
       "      <td>33.0</td>\n",
       "      <td>13.0</td>\n",
       "      <td>20.0</td>\n",
       "      <td>NaN</td>\n",
       "      <td>NaN</td>\n",
       "      <td>12.0</td>\n",
       "      <td>2.30</td>\n",
       "      <td>3.478261</td>\n",
       "      <td>['Abnormal function study, unspecified', 'Hype...</td>\n",
       "    </tr>\n",
       "    <tr>\n",
       "      <th>6</th>\n",
       "      <td>15</td>\n",
       "      <td>314037</td>\n",
       "      <td>2017-12-29</td>\n",
       "      <td>82</td>\n",
       "      <td>True</td>\n",
       "      <td>47.0</td>\n",
       "      <td>16.0</td>\n",
       "      <td>29.0</td>\n",
       "      <td>21.0</td>\n",
       "      <td>13.0</td>\n",
       "      <td>14.0</td>\n",
       "      <td>2.70</td>\n",
       "      <td>5.555556</td>\n",
       "      <td>['Chronic diastolic (congestive) heart failure']</td>\n",
       "    </tr>\n",
       "    <tr>\n",
       "      <th>7</th>\n",
       "      <td>21</td>\n",
       "      <td>1428045</td>\n",
       "      <td>2010-01-08</td>\n",
       "      <td>82</td>\n",
       "      <td>True</td>\n",
       "      <td>34.0</td>\n",
       "      <td>13.0</td>\n",
       "      <td>23.0</td>\n",
       "      <td>NaN</td>\n",
       "      <td>14.0</td>\n",
       "      <td>13.0</td>\n",
       "      <td>3.15</td>\n",
       "      <td>3.174603</td>\n",
       "      <td>['CAD of native vessel', 'Unstable Angina']</td>\n",
       "    </tr>\n",
       "    <tr>\n",
       "      <th>8</th>\n",
       "      <td>23</td>\n",
       "      <td>2034046</td>\n",
       "      <td>2017-04-28</td>\n",
       "      <td>90</td>\n",
       "      <td>False</td>\n",
       "      <td>57.0</td>\n",
       "      <td>20.0</td>\n",
       "      <td>36.0</td>\n",
       "      <td>18.0</td>\n",
       "      <td>15.0</td>\n",
       "      <td>11.0</td>\n",
       "      <td>5.50</td>\n",
       "      <td>4.545455</td>\n",
       "      <td>['Atherosclerotic heart disease of native coro...</td>\n",
       "    </tr>\n",
       "    <tr>\n",
       "      <th>9</th>\n",
       "      <td>25</td>\n",
       "      <td>439655</td>\n",
       "      <td>2016-01-27</td>\n",
       "      <td>88</td>\n",
       "      <td>True</td>\n",
       "      <td>54.0</td>\n",
       "      <td>18.0</td>\n",
       "      <td>31.0</td>\n",
       "      <td>20.0</td>\n",
       "      <td>29.0</td>\n",
       "      <td>18.0</td>\n",
       "      <td>4.83</td>\n",
       "      <td>2.691511</td>\n",
       "      <td>['Atherosclerotic heart disease of native coro...</td>\n",
       "    </tr>\n",
       "    <tr>\n",
       "      <th>10</th>\n",
       "      <td>27</td>\n",
       "      <td>767408</td>\n",
       "      <td>2010-04-30</td>\n",
       "      <td>80</td>\n",
       "      <td>True</td>\n",
       "      <td>42.0</td>\n",
       "      <td>16.0</td>\n",
       "      <td>28.0</td>\n",
       "      <td>NaN</td>\n",
       "      <td>30.0</td>\n",
       "      <td>19.0</td>\n",
       "      <td>5.32</td>\n",
       "      <td>1.691729</td>\n",
       "      <td>['CAD of vein graft', 'CAD of native vessel', ...</td>\n",
       "    </tr>\n",
       "    <tr>\n",
       "      <th>11</th>\n",
       "      <td>29</td>\n",
       "      <td>767408</td>\n",
       "      <td>2012-01-17</td>\n",
       "      <td>82</td>\n",
       "      <td>True</td>\n",
       "      <td>52.0</td>\n",
       "      <td>28.0</td>\n",
       "      <td>36.0</td>\n",
       "      <td>NaN</td>\n",
       "      <td>39.0</td>\n",
       "      <td>25.0</td>\n",
       "      <td>3.08</td>\n",
       "      <td>3.571429</td>\n",
       "      <td>['Aortic stenosis and insufficiency: Nonrheuma...</td>\n",
       "    </tr>\n",
       "    <tr>\n",
       "      <th>12</th>\n",
       "      <td>31</td>\n",
       "      <td>207082</td>\n",
       "      <td>2017-06-14</td>\n",
       "      <td>86</td>\n",
       "      <td>True</td>\n",
       "      <td>39.0</td>\n",
       "      <td>13.0</td>\n",
       "      <td>26.0</td>\n",
       "      <td>27.0</td>\n",
       "      <td>25.0</td>\n",
       "      <td>20.0</td>\n",
       "      <td>2.75</td>\n",
       "      <td>2.181818</td>\n",
       "      <td>['Acute systolic (congestive) heart failure']</td>\n",
       "    </tr>\n",
       "    <tr>\n",
       "      <th>13</th>\n",
       "      <td>33</td>\n",
       "      <td>1833002</td>\n",
       "      <td>2018-09-18</td>\n",
       "      <td>87</td>\n",
       "      <td>True</td>\n",
       "      <td>40.0</td>\n",
       "      <td>13.0</td>\n",
       "      <td>22.0</td>\n",
       "      <td>8.0</td>\n",
       "      <td>6.0</td>\n",
       "      <td>5.0</td>\n",
       "      <td>3.83</td>\n",
       "      <td>4.438642</td>\n",
       "      <td>['Nonrheumatic aortic (valve) stenosis', 'Non-...</td>\n",
       "    </tr>\n",
       "    <tr>\n",
       "      <th>14</th>\n",
       "      <td>34</td>\n",
       "      <td>1191544</td>\n",
       "      <td>2010-09-07</td>\n",
       "      <td>80</td>\n",
       "      <td>False</td>\n",
       "      <td>40.0</td>\n",
       "      <td>15.0</td>\n",
       "      <td>28.0</td>\n",
       "      <td>19.0</td>\n",
       "      <td>33.0</td>\n",
       "      <td>19.0</td>\n",
       "      <td>4.47</td>\n",
       "      <td>2.013423</td>\n",
       "      <td>['Acute on chronic diastolic heart failure', '...</td>\n",
       "    </tr>\n",
       "    <tr>\n",
       "      <th>15</th>\n",
       "      <td>37</td>\n",
       "      <td>203303</td>\n",
       "      <td>2012-03-21</td>\n",
       "      <td>77</td>\n",
       "      <td>True</td>\n",
       "      <td>32.0</td>\n",
       "      <td>13.0</td>\n",
       "      <td>19.0</td>\n",
       "      <td>12.0</td>\n",
       "      <td>9.0</td>\n",
       "      <td>6.0</td>\n",
       "      <td>NaN</td>\n",
       "      <td>NaN</td>\n",
       "      <td>['CAD of native vessel', 'PFO']</td>\n",
       "    </tr>\n",
       "    <tr>\n",
       "      <th>16</th>\n",
       "      <td>38</td>\n",
       "      <td>1849697</td>\n",
       "      <td>2018-11-16</td>\n",
       "      <td>84</td>\n",
       "      <td>True</td>\n",
       "      <td>24.0</td>\n",
       "      <td>10.0</td>\n",
       "      <td>16.0</td>\n",
       "      <td>12.0</td>\n",
       "      <td>12.0</td>\n",
       "      <td>9.0</td>\n",
       "      <td>3.35</td>\n",
       "      <td>2.089552</td>\n",
       "      <td>['Heart disease, unspecified', 'Non-ST elevati...</td>\n",
       "    </tr>\n",
       "    <tr>\n",
       "      <th>17</th>\n",
       "      <td>44</td>\n",
       "      <td>255777</td>\n",
       "      <td>2015-05-16</td>\n",
       "      <td>86</td>\n",
       "      <td>True</td>\n",
       "      <td>69.0</td>\n",
       "      <td>26.0</td>\n",
       "      <td>48.0</td>\n",
       "      <td>30.0</td>\n",
       "      <td>50.0</td>\n",
       "      <td>29.0</td>\n",
       "      <td>NaN</td>\n",
       "      <td>NaN</td>\n",
       "      <td>['Shock', 'Acute on chronic systolic heart fai...</td>\n",
       "    </tr>\n",
       "    <tr>\n",
       "      <th>18</th>\n",
       "      <td>49</td>\n",
       "      <td>439565</td>\n",
       "      <td>2010-02-05</td>\n",
       "      <td>91</td>\n",
       "      <td>True</td>\n",
       "      <td>57.0</td>\n",
       "      <td>18.0</td>\n",
       "      <td>31.0</td>\n",
       "      <td>NaN</td>\n",
       "      <td>24.0</td>\n",
       "      <td>17.0</td>\n",
       "      <td>4.95</td>\n",
       "      <td>2.828283</td>\n",
       "      <td>['CAD of native vessel', 'Acute or chronic sys...</td>\n",
       "    </tr>\n",
       "    <tr>\n",
       "      <th>19</th>\n",
       "      <td>52</td>\n",
       "      <td>409959</td>\n",
       "      <td>2011-11-29</td>\n",
       "      <td>84</td>\n",
       "      <td>True</td>\n",
       "      <td>24.0</td>\n",
       "      <td>10.0</td>\n",
       "      <td>13.0</td>\n",
       "      <td>NaN</td>\n",
       "      <td>10.0</td>\n",
       "      <td>9.0</td>\n",
       "      <td>4.47</td>\n",
       "      <td>0.894855</td>\n",
       "      <td>['Peripheral Vascular Disease', 'COPD', 'Old M...</td>\n",
       "    </tr>\n",
       "  </tbody>\n",
       "</table>\n",
       "</div>"
      ],
      "text/plain": [
       "    Unnamed: 0  QuantaID Date_of_Cath  Age_at_Cath    Sex  PAP_sys  PAP_dia  \\\n",
       "0            1   1398820   2016-08-19           80   True     53.0     31.0   \n",
       "1            4   1654372   2010-06-04           87  False     49.0     25.0   \n",
       "2            8    303155   2010-03-18           86   True     26.0      9.0   \n",
       "3            9    303155   2010-03-25           86   True     29.0      8.0   \n",
       "4           10   1092577   2011-07-12           77  False     49.0     20.0   \n",
       "5           13     70309   2013-02-13           80  False     33.0     13.0   \n",
       "6           15    314037   2017-12-29           82   True     47.0     16.0   \n",
       "7           21   1428045   2010-01-08           82   True     34.0     13.0   \n",
       "8           23   2034046   2017-04-28           90  False     57.0     20.0   \n",
       "9           25    439655   2016-01-27           88   True     54.0     18.0   \n",
       "10          27    767408   2010-04-30           80   True     42.0     16.0   \n",
       "11          29    767408   2012-01-17           82   True     52.0     28.0   \n",
       "12          31    207082   2017-06-14           86   True     39.0     13.0   \n",
       "13          33   1833002   2018-09-18           87   True     40.0     13.0   \n",
       "14          34   1191544   2010-09-07           80  False     40.0     15.0   \n",
       "15          37    203303   2012-03-21           77   True     32.0     13.0   \n",
       "16          38   1849697   2018-11-16           84   True     24.0     10.0   \n",
       "17          44    255777   2015-05-16           86   True     69.0     26.0   \n",
       "18          49    439565   2010-02-05           91   True     57.0     18.0   \n",
       "19          52    409959   2011-11-29           84   True     24.0     10.0   \n",
       "\n",
       "    PAP_mean  PCWP_sys  PCWP_dia  PCWP_mean    CO       PVR  \\\n",
       "0       38.0      29.0      33.0       26.0  4.10  2.926829   \n",
       "1       34.0      26.0      25.0       23.0  2.77  3.971119   \n",
       "2       14.0       NaN      15.0        9.0  4.17  1.199041   \n",
       "3       17.0       NaN      15.0       13.0  3.61  1.108033   \n",
       "4       28.0       NaN      34.0       19.0  7.73  1.164295   \n",
       "5       20.0       NaN       NaN       12.0  2.30  3.478261   \n",
       "6       29.0      21.0      13.0       14.0  2.70  5.555556   \n",
       "7       23.0       NaN      14.0       13.0  3.15  3.174603   \n",
       "8       36.0      18.0      15.0       11.0  5.50  4.545455   \n",
       "9       31.0      20.0      29.0       18.0  4.83  2.691511   \n",
       "10      28.0       NaN      30.0       19.0  5.32  1.691729   \n",
       "11      36.0       NaN      39.0       25.0  3.08  3.571429   \n",
       "12      26.0      27.0      25.0       20.0  2.75  2.181818   \n",
       "13      22.0       8.0       6.0        5.0  3.83  4.438642   \n",
       "14      28.0      19.0      33.0       19.0  4.47  2.013423   \n",
       "15      19.0      12.0       9.0        6.0   NaN       NaN   \n",
       "16      16.0      12.0      12.0        9.0  3.35  2.089552   \n",
       "17      48.0      30.0      50.0       29.0   NaN       NaN   \n",
       "18      31.0       NaN      24.0       17.0  4.95  2.828283   \n",
       "19      13.0       NaN      10.0        9.0  4.47  0.894855   \n",
       "\n",
       "                                           Admit_Diag  \n",
       "0   ['Acute ischemic heart disease, unspecified', ...  \n",
       "1                    ['Acute systolic heart failure']  \n",
       "2   ['SEMI initial episode of care', 'CAD of vein ...  \n",
       "3   ['Atherosclerosis of Renal Artery', 'Aortic st...  \n",
       "4   ['CHF: Unspecified', 'Essential Hypertension, ...  \n",
       "5   ['Abnormal function study, unspecified', 'Hype...  \n",
       "6    ['Chronic diastolic (congestive) heart failure']  \n",
       "7         ['CAD of native vessel', 'Unstable Angina']  \n",
       "8   ['Atherosclerotic heart disease of native coro...  \n",
       "9   ['Atherosclerotic heart disease of native coro...  \n",
       "10  ['CAD of vein graft', 'CAD of native vessel', ...  \n",
       "11  ['Aortic stenosis and insufficiency: Nonrheuma...  \n",
       "12      ['Acute systolic (congestive) heart failure']  \n",
       "13  ['Nonrheumatic aortic (valve) stenosis', 'Non-...  \n",
       "14  ['Acute on chronic diastolic heart failure', '...  \n",
       "15                    ['CAD of native vessel', 'PFO']  \n",
       "16  ['Heart disease, unspecified', 'Non-ST elevati...  \n",
       "17  ['Shock', 'Acute on chronic systolic heart fai...  \n",
       "18  ['CAD of native vessel', 'Acute or chronic sys...  \n",
       "19  ['Peripheral Vascular Disease', 'COPD', 'Old M...  "
      ]
     },
     "execution_count": 7,
     "metadata": {},
     "output_type": "execute_result"
    }
   ],
   "source": [
    "df_tab.head(20)"
   ]
  },
  {
   "cell_type": "code",
   "execution_count": 8,
   "metadata": {},
   "outputs": [
    {
     "data": {
      "text/plain": [
       "0.053652720572295684"
      ]
     },
     "execution_count": 8,
     "metadata": {},
     "output_type": "execute_result"
    }
   ],
   "source": [
    "np.mean(df_tab['PCWP_mean'] > 30)"
   ]
  },
  {
   "cell_type": "code",
   "execution_count": 9,
   "metadata": {},
   "outputs": [
    {
     "data": {
      "text/plain": [
       "Text(0, 0.5, 'Counts')"
      ]
     },
     "execution_count": 9,
     "metadata": {},
     "output_type": "execute_result"
    },
    {
     "data": {
      "image/png": "[encoded data removed]",
      "text/plain": [
       "<Figure size 432x288 with 1 Axes>"
      ]
     },
     "metadata": {
      "needs_background": "light"
     },
     "output_type": "display_data"
    }
   ],
   "source": [
    "%matplotlib inline\n",
    "import matplotlib.pyplot as plt\n",
    "df_tab['PCWP_mean'].hist(bins=20)\n",
    "plt.xlabel('PCWP mean')\n",
    "plt.ylabel('Counts')"
   ]
  },
  {
   "cell_type": "code",
   "execution_count": 10,
   "metadata": {},
   "outputs": [],
   "source": [
    "df2 = df_tab.dropna(subset=['CO'])"
   ]
  },
  {
   "cell_type": "code",
   "execution_count": 11,
   "metadata": {},
   "outputs": [
    {
     "data": {
      "text/plain": [
       "False"
      ]
     },
     "execution_count": 11,
     "metadata": {},
     "output_type": "execute_result"
    }
   ],
   "source": [
    "df_tab['CO'].iloc[15] <4"
   ]
  },
  {
   "cell_type": "code",
   "execution_count": 12,
   "metadata": {},
   "outputs": [
    {
     "data": {
      "text/plain": [
       "4051"
      ]
     },
     "execution_count": 12,
     "metadata": {},
     "output_type": "execute_result"
    }
   ],
   "source": [
    "len(df_tab.dropna(subset=['CO'])['QuantaID'].unique())"
   ]
  },
  {
   "cell_type": "code",
   "execution_count": 13,
   "metadata": {},
   "outputs": [],
   "source": [
    "%matplotlib inline"
   ]
  },
  {
   "cell_type": "code",
   "execution_count": 14,
   "metadata": {},
   "outputs": [
    {
     "data": {
      "text/plain": [
       "<matplotlib.axes._subplots.AxesSubplot at 0x7fd166a9cfd0>"
      ]
     },
     "execution_count": 14,
     "metadata": {},
     "output_type": "execute_result"
    },
    {
     "data": {
      "image/png": "[encoded data removed]",
      "text/plain": [
       "<Figure size 432x288 with 1 Axes>"
      ]
     },
     "metadata": {
      "needs_background": "light"
     },
     "output_type": "display_data"
    }
   ],
   "source": [
    "df_tab['CO'].hist()"
   ]
  },
  {
   "cell_type": "markdown",
   "metadata": {},
   "source": [
    "# Old stuff"
   ]
  },
  {
   "cell_type": "code",
   "execution_count": 11,
   "metadata": {},
   "outputs": [],
   "source": [
    "# split by quanta id into train/val/test; fix seed\n",
    "# each dataloader keeps the relevant split of df_tab\n",
    "# when we sample an idx in getitem:\n",
    "#    grab the quanta ID and date of cath\n",
    "#    use it to form the fname for the ecg\n",
    "#    load the ecg and normalise it \n",
    "#    extract PAP_mean and if it's above 20, set y =1. else y = 0\n",
    "#    return x and y"
   ]
  },
  {
   "cell_type": "code",
   "execution_count": 27,
   "metadata": {},
   "outputs": [],
   "source": [
    "frac_train = 0.7\n",
    "frac_val = 0.1\n",
    "frac_test = 1 - frac_val - frac_train\n",
    "\n",
    "frac_val_end = frac_train + frac_val\n",
    "\n",
    "rng = np.random.RandomState(seed=0)\n",
    "\n",
    "uids = df_tab['QuantaID'].unique()\n",
    "rng.shuffle(uids)\n",
    "\n",
    "train_ids = uids[:int(frac_train*len(uids))]\n",
    "val_ids = uids[int(frac_train*len(uids)) : int(frac_val_end*len(uids))]\n",
    "test_ids = uids[int(frac_val_end*len(uids)):]\n",
    "\n",
    "train_df = df_tab[df_tab['QuantaID'].isin(train_ids)]\n",
    "val_df = df_tab[df_tab['QuantaID'].isin(val_ids)]\n",
    "test_df = df_tab[df_tab['QuantaID'].isin(test_ids)]"
   ]
  },
  {
   "cell_type": "code",
   "execution_count": 28,
   "metadata": {},
   "outputs": [],
   "source": [
    "import matplotlib.pyplot as plt\n",
    "%matplotlib inline"
   ]
  },
  {
   "cell_type": "code",
   "execution_count": 34,
   "metadata": {},
   "outputs": [
    {
     "data": {
      "text/plain": [
       "0.6190774042220485"
      ]
     },
     "execution_count": 34,
     "metadata": {},
     "output_type": "execute_result"
    }
   ],
   "source": [
    "np.mean(train_df['PAP_mean'] > 20)"
   ]
  },
  {
   "cell_type": "code",
   "execution_count": 35,
   "metadata": {},
   "outputs": [
    {
     "data": {
      "text/plain": [
       "0.61441647597254"
      ]
     },
     "execution_count": 35,
     "metadata": {},
     "output_type": "execute_result"
    }
   ],
   "source": [
    "np.mean(val_df['PAP_mean'] > 20)"
   ]
  },
  {
   "cell_type": "code",
   "execution_count": 36,
   "metadata": {},
   "outputs": [
    {
     "data": {
      "text/plain": [
       "0.6185355862775218"
      ]
     },
     "execution_count": 36,
     "metadata": {},
     "output_type": "execute_result"
    }
   ],
   "source": [
    "np.mean(test_df['PAP_mean'] > 20)"
   ]
  },
  {
   "cell_type": "code",
   "execution_count": 41,
   "metadata": {},
   "outputs": [],
   "source": [
    "from torch.utils.data import Dataset, DataLoader, Subset"
   ]
  },
  {
   "cell_type": "code",
   "execution_count": 51,
   "metadata": {},
   "outputs": [],
   "source": [
    "import copy\n",
    "def norm_and_dataloader_augment(df, bs=32, shuffle=True, augment=False):\n",
    "    class ECGDataset(Dataset):\n",
    "        def __init__(self, df, augment=False):\n",
    "\n",
    "            \n",
    "            self.augment = augment\n",
    "            self.df = df\n",
    "\n",
    "        def __len__(self):\n",
    "            return len(self.df)\n",
    "\n",
    "        def do_augment(self, x):\n",
    "            x = _rand_add_noise(x)\n",
    "            x = _rand_crop_ecg(x)\n",
    "            return x\n",
    "        \n",
    "        def __getitem__(self, idx):\n",
    "            row = self.df.iloc[idx]\n",
    "            # load ECG\n",
    "            qid = row['QuantaID']\n",
    "            doc = row['Date_of_Cath']\n",
    "            fname = f'/storage/shared/apollo/same-day/{qid}_{doc}.csv'\n",
    "            x = pd.read_csv(fname).values[::2,1:].astype(np.float32)\n",
    "            y = int(row['PAP_mean'] > 20)\n",
    "            x = (x-x.mean())/x.std()\n",
    "            if self.augment:\n",
    "                x = self.do_augment(x).astype(np.float32)\n",
    "            sample = (x[:2496,:].T, y)\n",
    "            return sample\n",
    "    dataset = ECGDataset(df, augment)\n",
    "    dataloader =DataLoader(dataset, batch_size=bs, shuffle=shuffle, num_workers=2)\n",
    "    return dataloader"
   ]
  },
  {
   "cell_type": "code",
   "execution_count": 52,
   "metadata": {},
   "outputs": [],
   "source": [
    "train_dl = norm_and_dataloader_augment(train_df)"
   ]
  },
  {
   "cell_type": "code",
   "execution_count": 53,
   "metadata": {},
   "outputs": [],
   "source": [
    "x, y=iter(train_dl).next()"
   ]
  },
  {
   "cell_type": "code",
   "execution_count": 58,
   "metadata": {},
   "outputs": [
    {
     "data": {
      "text/plain": [
       "[<matplotlib.lines.Line2D at 0x7fe72fe20828>]"
      ]
     },
     "execution_count": 58,
     "metadata": {},
     "output_type": "execute_result"
    },
    {
     "data": {
      "image/png": "[encoded data removed]",
      "text/plain": [
       "<Figure size 432x288 with 1 Axes>"
      ]
     },
     "metadata": {
      "needs_background": "light"
     },
     "output_type": "display_data"
    }
   ],
   "source": [
    "plt.plot(x[31, 10, :].numpy().T)"
   ]
  },
  {
   "cell_type": "code",
   "execution_count": 62,
   "metadata": {},
   "outputs": [
    {
     "data": {
      "text/plain": [
       "(6395, 874, 1953)"
      ]
     },
     "execution_count": 62,
     "metadata": {},
     "output_type": "execute_result"
    }
   ],
   "source": [
    "len(train_df), len(val_df), len(test_df)"
   ]
  },
  {
   "cell_type": "code",
   "execution_count": null,
   "metadata": {},
   "outputs": [],
   "source": []
  }
 ],
 "metadata": {
  "kernelspec": {
   "display_name": "Python 3 (ipykernel)",
   "language": "python",
   "name": "python3"
  },
  "language_info": {
   "codemirror_mode": {
    "name": "ipython",
    "version": 3
   },
   "file_extension": ".py",
   "mimetype": "text/x-python",
   "name": "python",
   "nbconvert_exporter": "python",
   "pygments_lexer": "ipython3",
   "version": "3.7.9"
  }
 },
 "nbformat": 4,
 "nbformat_minor": 2
}
